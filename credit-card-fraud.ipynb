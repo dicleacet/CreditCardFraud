{
 "cells": [
  {
   "cell_type": "code",
   "execution_count": 1,
   "id": "f05d41d7",
   "metadata": {
    "execution": {
     "iopub.execute_input": "2021-11-27T08:53:49.043501Z",
     "iopub.status.busy": "2021-11-27T08:53:49.042434Z",
     "iopub.status.idle": "2021-11-27T08:53:53.255437Z",
     "shell.execute_reply": "2021-11-27T08:53:53.255980Z",
     "shell.execute_reply.started": "2021-11-27T08:08:50.669401Z"
    },
    "papermill": {
     "duration": 4.227223,
     "end_time": "2021-11-27T08:53:53.256312",
     "exception": false,
     "start_time": "2021-11-27T08:53:49.029089",
     "status": "completed"
    },
    "tags": []
   },
   "outputs": [
    {
     "data": {
      "text/html": [
       "<div>\n",
       "<style scoped>\n",
       "    .dataframe tbody tr th:only-of-type {\n",
       "        vertical-align: middle;\n",
       "    }\n",
       "\n",
       "    .dataframe tbody tr th {\n",
       "        vertical-align: top;\n",
       "    }\n",
       "\n",
       "    .dataframe thead th {\n",
       "        text-align: right;\n",
       "    }\n",
       "</style>\n",
       "<table border=\"1\" class=\"dataframe\">\n",
       "  <thead>\n",
       "    <tr style=\"text-align: right;\">\n",
       "      <th></th>\n",
       "      <th>Time</th>\n",
       "      <th>V1</th>\n",
       "      <th>V2</th>\n",
       "      <th>V3</th>\n",
       "      <th>V4</th>\n",
       "      <th>V5</th>\n",
       "      <th>V6</th>\n",
       "      <th>V7</th>\n",
       "      <th>V8</th>\n",
       "      <th>V9</th>\n",
       "      <th>...</th>\n",
       "      <th>V21</th>\n",
       "      <th>V22</th>\n",
       "      <th>V23</th>\n",
       "      <th>V24</th>\n",
       "      <th>V25</th>\n",
       "      <th>V26</th>\n",
       "      <th>V27</th>\n",
       "      <th>V28</th>\n",
       "      <th>Amount</th>\n",
       "      <th>Class</th>\n",
       "    </tr>\n",
       "  </thead>\n",
       "  <tbody>\n",
       "    <tr>\n",
       "      <th>0</th>\n",
       "      <td>0.0</td>\n",
       "      <td>-1.359807</td>\n",
       "      <td>-0.072781</td>\n",
       "      <td>2.536347</td>\n",
       "      <td>1.378155</td>\n",
       "      <td>-0.338321</td>\n",
       "      <td>0.462388</td>\n",
       "      <td>0.239599</td>\n",
       "      <td>0.098698</td>\n",
       "      <td>0.363787</td>\n",
       "      <td>...</td>\n",
       "      <td>-0.018307</td>\n",
       "      <td>0.277838</td>\n",
       "      <td>-0.110474</td>\n",
       "      <td>0.066928</td>\n",
       "      <td>0.128539</td>\n",
       "      <td>-0.189115</td>\n",
       "      <td>0.133558</td>\n",
       "      <td>-0.021053</td>\n",
       "      <td>149.62</td>\n",
       "      <td>0</td>\n",
       "    </tr>\n",
       "    <tr>\n",
       "      <th>1</th>\n",
       "      <td>0.0</td>\n",
       "      <td>1.191857</td>\n",
       "      <td>0.266151</td>\n",
       "      <td>0.166480</td>\n",
       "      <td>0.448154</td>\n",
       "      <td>0.060018</td>\n",
       "      <td>-0.082361</td>\n",
       "      <td>-0.078803</td>\n",
       "      <td>0.085102</td>\n",
       "      <td>-0.255425</td>\n",
       "      <td>...</td>\n",
       "      <td>-0.225775</td>\n",
       "      <td>-0.638672</td>\n",
       "      <td>0.101288</td>\n",
       "      <td>-0.339846</td>\n",
       "      <td>0.167170</td>\n",
       "      <td>0.125895</td>\n",
       "      <td>-0.008983</td>\n",
       "      <td>0.014724</td>\n",
       "      <td>2.69</td>\n",
       "      <td>0</td>\n",
       "    </tr>\n",
       "    <tr>\n",
       "      <th>2</th>\n",
       "      <td>1.0</td>\n",
       "      <td>-1.358354</td>\n",
       "      <td>-1.340163</td>\n",
       "      <td>1.773209</td>\n",
       "      <td>0.379780</td>\n",
       "      <td>-0.503198</td>\n",
       "      <td>1.800499</td>\n",
       "      <td>0.791461</td>\n",
       "      <td>0.247676</td>\n",
       "      <td>-1.514654</td>\n",
       "      <td>...</td>\n",
       "      <td>0.247998</td>\n",
       "      <td>0.771679</td>\n",
       "      <td>0.909412</td>\n",
       "      <td>-0.689281</td>\n",
       "      <td>-0.327642</td>\n",
       "      <td>-0.139097</td>\n",
       "      <td>-0.055353</td>\n",
       "      <td>-0.059752</td>\n",
       "      <td>378.66</td>\n",
       "      <td>0</td>\n",
       "    </tr>\n",
       "    <tr>\n",
       "      <th>3</th>\n",
       "      <td>1.0</td>\n",
       "      <td>-0.966272</td>\n",
       "      <td>-0.185226</td>\n",
       "      <td>1.792993</td>\n",
       "      <td>-0.863291</td>\n",
       "      <td>-0.010309</td>\n",
       "      <td>1.247203</td>\n",
       "      <td>0.237609</td>\n",
       "      <td>0.377436</td>\n",
       "      <td>-1.387024</td>\n",
       "      <td>...</td>\n",
       "      <td>-0.108300</td>\n",
       "      <td>0.005274</td>\n",
       "      <td>-0.190321</td>\n",
       "      <td>-1.175575</td>\n",
       "      <td>0.647376</td>\n",
       "      <td>-0.221929</td>\n",
       "      <td>0.062723</td>\n",
       "      <td>0.061458</td>\n",
       "      <td>123.50</td>\n",
       "      <td>0</td>\n",
       "    </tr>\n",
       "    <tr>\n",
       "      <th>4</th>\n",
       "      <td>2.0</td>\n",
       "      <td>-1.158233</td>\n",
       "      <td>0.877737</td>\n",
       "      <td>1.548718</td>\n",
       "      <td>0.403034</td>\n",
       "      <td>-0.407193</td>\n",
       "      <td>0.095921</td>\n",
       "      <td>0.592941</td>\n",
       "      <td>-0.270533</td>\n",
       "      <td>0.817739</td>\n",
       "      <td>...</td>\n",
       "      <td>-0.009431</td>\n",
       "      <td>0.798278</td>\n",
       "      <td>-0.137458</td>\n",
       "      <td>0.141267</td>\n",
       "      <td>-0.206010</td>\n",
       "      <td>0.502292</td>\n",
       "      <td>0.219422</td>\n",
       "      <td>0.215153</td>\n",
       "      <td>69.99</td>\n",
       "      <td>0</td>\n",
       "    </tr>\n",
       "  </tbody>\n",
       "</table>\n",
       "<p>5 rows × 31 columns</p>\n",
       "</div>"
      ],
      "text/plain": [
       "   Time        V1        V2        V3        V4        V5        V6        V7  \\\n",
       "0   0.0 -1.359807 -0.072781  2.536347  1.378155 -0.338321  0.462388  0.239599   \n",
       "1   0.0  1.191857  0.266151  0.166480  0.448154  0.060018 -0.082361 -0.078803   \n",
       "2   1.0 -1.358354 -1.340163  1.773209  0.379780 -0.503198  1.800499  0.791461   \n",
       "3   1.0 -0.966272 -0.185226  1.792993 -0.863291 -0.010309  1.247203  0.237609   \n",
       "4   2.0 -1.158233  0.877737  1.548718  0.403034 -0.407193  0.095921  0.592941   \n",
       "\n",
       "         V8        V9  ...       V21       V22       V23       V24       V25  \\\n",
       "0  0.098698  0.363787  ... -0.018307  0.277838 -0.110474  0.066928  0.128539   \n",
       "1  0.085102 -0.255425  ... -0.225775 -0.638672  0.101288 -0.339846  0.167170   \n",
       "2  0.247676 -1.514654  ...  0.247998  0.771679  0.909412 -0.689281 -0.327642   \n",
       "3  0.377436 -1.387024  ... -0.108300  0.005274 -0.190321 -1.175575  0.647376   \n",
       "4 -0.270533  0.817739  ... -0.009431  0.798278 -0.137458  0.141267 -0.206010   \n",
       "\n",
       "        V26       V27       V28  Amount  Class  \n",
       "0 -0.189115  0.133558 -0.021053  149.62      0  \n",
       "1  0.125895 -0.008983  0.014724    2.69      0  \n",
       "2 -0.139097 -0.055353 -0.059752  378.66      0  \n",
       "3 -0.221929  0.062723  0.061458  123.50      0  \n",
       "4  0.502292  0.219422  0.215153   69.99      0  \n",
       "\n",
       "[5 rows x 31 columns]"
      ]
     },
     "execution_count": 1,
     "metadata": {},
     "output_type": "execute_result"
    }
   ],
   "source": [
    "import pandas as pd\n",
    "df = pd.read_csv('creditcard.csv')\n",
    "\n",
    "df.head()"
   ]
  },
  {
   "cell_type": "code",
   "execution_count": 2,
   "id": "0a1285ad",
   "metadata": {
    "execution": {
     "iopub.execute_input": "2021-11-27T08:53:53.283281Z",
     "iopub.status.busy": "2021-11-27T08:53:53.282584Z",
     "iopub.status.idle": "2021-11-27T08:53:53.329749Z",
     "shell.execute_reply": "2021-11-27T08:53:53.330468Z",
     "shell.execute_reply.started": "2021-11-27T08:08:54.567116Z"
    },
    "papermill": {
     "duration": 0.064066,
     "end_time": "2021-11-27T08:53:53.330730",
     "exception": false,
     "start_time": "2021-11-27T08:53:53.266664",
     "status": "completed"
    },
    "tags": []
   },
   "outputs": [
    {
     "name": "stdout",
     "output_type": "stream",
     "text": [
      "<class 'pandas.core.frame.DataFrame'>\n",
      "RangeIndex: 284807 entries, 0 to 284806\n",
      "Data columns (total 31 columns):\n",
      " #   Column  Non-Null Count   Dtype  \n",
      "---  ------  --------------   -----  \n",
      " 0   Time    284807 non-null  float64\n",
      " 1   V1      284807 non-null  float64\n",
      " 2   V2      284807 non-null  float64\n",
      " 3   V3      284807 non-null  float64\n",
      " 4   V4      284807 non-null  float64\n",
      " 5   V5      284807 non-null  float64\n",
      " 6   V6      284807 non-null  float64\n",
      " 7   V7      284807 non-null  float64\n",
      " 8   V8      284807 non-null  float64\n",
      " 9   V9      284807 non-null  float64\n",
      " 10  V10     284807 non-null  float64\n",
      " 11  V11     284807 non-null  float64\n",
      " 12  V12     284807 non-null  float64\n",
      " 13  V13     284807 non-null  float64\n",
      " 14  V14     284807 non-null  float64\n",
      " 15  V15     284807 non-null  float64\n",
      " 16  V16     284807 non-null  float64\n",
      " 17  V17     284807 non-null  float64\n",
      " 18  V18     284807 non-null  float64\n",
      " 19  V19     284807 non-null  float64\n",
      " 20  V20     284807 non-null  float64\n",
      " 21  V21     284807 non-null  float64\n",
      " 22  V22     284807 non-null  float64\n",
      " 23  V23     284807 non-null  float64\n",
      " 24  V24     284807 non-null  float64\n",
      " 25  V25     284807 non-null  float64\n",
      " 26  V26     284807 non-null  float64\n",
      " 27  V27     284807 non-null  float64\n",
      " 28  V28     284807 non-null  float64\n",
      " 29  Amount  284807 non-null  float64\n",
      " 30  Class   284807 non-null  int64  \n",
      "dtypes: float64(30), int64(1)\n",
      "memory usage: 67.4 MB\n"
     ]
    }
   ],
   "source": [
    "df.info()"
   ]
  },
  {
   "cell_type": "code",
   "execution_count": 3,
   "id": "0a27f170",
   "metadata": {
    "execution": {
     "iopub.execute_input": "2021-11-27T08:53:53.398825Z",
     "iopub.status.busy": "2021-11-27T08:53:53.397969Z",
     "iopub.status.idle": "2021-11-27T08:53:53.400411Z",
     "shell.execute_reply": "2021-11-27T08:53:53.399983Z",
     "shell.execute_reply.started": "2021-11-27T08:08:54.616453Z"
    },
    "papermill": {
     "duration": 0.059612,
     "end_time": "2021-11-27T08:53:53.400567",
     "exception": false,
     "start_time": "2021-11-27T08:53:53.340955",
     "status": "completed"
    },
    "tags": []
   },
   "outputs": [],
   "source": [
    "df.drop('Time',axis=1,inplace=True)"
   ]
  },
  {
   "cell_type": "code",
   "execution_count": 4,
   "id": "4c0958cb",
   "metadata": {
    "execution": {
     "iopub.execute_input": "2021-11-27T08:53:53.422455Z",
     "iopub.status.busy": "2021-11-27T08:53:53.421818Z",
     "iopub.status.idle": "2021-11-27T08:53:53.634345Z",
     "shell.execute_reply": "2021-11-27T08:53:53.634775Z",
     "shell.execute_reply.started": "2021-11-27T08:08:54.653255Z"
    },
    "papermill": {
     "duration": 0.225287,
     "end_time": "2021-11-27T08:53:53.634970",
     "exception": false,
     "start_time": "2021-11-27T08:53:53.409683",
     "status": "completed"
    },
    "tags": []
   },
   "outputs": [
    {
     "name": "stdout",
     "output_type": "stream",
     "text": [
      "Total rows in data: 284807\n",
      "0    284315\n",
      "1       492\n",
      "Name: Class, dtype: int64\n"
     ]
    },
    {
     "data": {
      "text/plain": [
       "<AxesSubplot:>"
      ]
     },
     "execution_count": 4,
     "metadata": {},
     "output_type": "execute_result"
    },
    {
     "data": {
      "image/png": "[encoded data removed]",
      "text/plain": [
       "<Figure size 432x288 with 1 Axes>"
      ]
     },
     "metadata": {
      "needs_background": "light"
     },
     "output_type": "display_data"
    }
   ],
   "source": [
    "import matplotlib.pyplot as plt\n",
    "\n",
    "print('Total rows in data:',df.shape[0])\n",
    "print(df.Class.value_counts())\n",
    "df['Class'].value_counts().plot(kind='barh')"
   ]
  },
  {
   "cell_type": "markdown",
   "id": "4d30164a",
   "metadata": {
    "papermill": {
     "duration": 0.009503,
     "end_time": "2021-11-27T08:53:53.654323",
     "exception": false,
     "start_time": "2021-11-27T08:53:53.644820",
     "status": "completed"
    },
    "tags": []
   },
   "source": [
    "### Yukarıdaki çıktı dağılımından, Verilerin aşırı dengesiz bir durumda olduğu sonucuna varabiliriz."
   ]
  },
  {
   "cell_type": "markdown",
   "id": "1f741fb9",
   "metadata": {
    "papermill": {
     "duration": 0.009562,
     "end_time": "2021-11-27T08:53:53.673685",
     "exception": false,
     "start_time": "2021-11-27T08:53:53.664123",
     "status": "completed"
    },
    "tags": []
   },
   "source": [
    "### Boyut Azaltma için PCA kullanacağız"
   ]
  },
  {
   "cell_type": "code",
   "execution_count": 5,
   "id": "3e8e2b2a",
   "metadata": {
    "execution": {
     "iopub.execute_input": "2021-11-27T08:53:53.699865Z",
     "iopub.status.busy": "2021-11-27T08:53:53.699084Z",
     "iopub.status.idle": "2021-11-27T08:53:56.578394Z",
     "shell.execute_reply": "2021-11-27T08:53:56.577925Z",
     "shell.execute_reply.started": "2021-11-27T08:43:49.784601Z"
    },
    "papermill": {
     "duration": 2.895118,
     "end_time": "2021-11-27T08:53:56.578552",
     "exception": false,
     "start_time": "2021-11-27T08:53:53.683434",
     "status": "completed"
    },
    "tags": []
   },
   "outputs": [
    {
     "data": {
      "text/html": [
       "<div>\n",
       "<style scoped>\n",
       "    .dataframe tbody tr th:only-of-type {\n",
       "        vertical-align: middle;\n",
       "    }\n",
       "\n",
       "    .dataframe tbody tr th {\n",
       "        vertical-align: top;\n",
       "    }\n",
       "\n",
       "    .dataframe thead th {\n",
       "        text-align: right;\n",
       "    }\n",
       "</style>\n",
       "<table border=\"1\" class=\"dataframe\">\n",
       "  <thead>\n",
       "    <tr style=\"text-align: right;\">\n",
       "      <th></th>\n",
       "      <th>Class</th>\n",
       "      <th>principal component 1</th>\n",
       "      <th>principal component 2</th>\n",
       "    </tr>\n",
       "  </thead>\n",
       "  <tbody>\n",
       "    <tr>\n",
       "      <th>0</th>\n",
       "      <td>0</td>\n",
       "      <td>61.271382</td>\n",
       "      <td>1.319371</td>\n",
       "    </tr>\n",
       "    <tr>\n",
       "      <th>1</th>\n",
       "      <td>0</td>\n",
       "      <td>-85.661826</td>\n",
       "      <td>-1.043917</td>\n",
       "    </tr>\n",
       "    <tr>\n",
       "      <th>2</th>\n",
       "      <td>0</td>\n",
       "      <td>290.316696</td>\n",
       "      <td>0.810803</td>\n",
       "    </tr>\n",
       "    <tr>\n",
       "      <th>3</th>\n",
       "      <td>0</td>\n",
       "      <td>35.151659</td>\n",
       "      <td>0.928455</td>\n",
       "    </tr>\n",
       "    <tr>\n",
       "      <th>4</th>\n",
       "      <td>0</td>\n",
       "      <td>-18.360281</td>\n",
       "      <td>1.317518</td>\n",
       "    </tr>\n",
       "  </tbody>\n",
       "</table>\n",
       "</div>"
      ],
      "text/plain": [
       "   Class  principal component 1  principal component 2\n",
       "0      0              61.271382               1.319371\n",
       "1      0             -85.661826              -1.043917\n",
       "2      0             290.316696               0.810803\n",
       "3      0              35.151659               0.928455\n",
       "4      0             -18.360281               1.317518"
      ]
     },
     "execution_count": 5,
     "metadata": {},
     "output_type": "execute_result"
    }
   ],
   "source": [
    "from sklearn.decomposition import PCA\n",
    "\n",
    "pca = PCA(n_components=2)\n",
    "principalComponents = pca.fit_transform(df.drop('Class',axis=1))\n",
    "\n",
    "principalDf = pd.DataFrame(data = principalComponents, \n",
    "                           columns = ['principal component 1', 'principal component 2'])\n",
    "final_df = pd.concat([df['Class'], principalDf],axis=1)\n",
    "final_df.head()"
   ]
  },
  {
   "cell_type": "code",
   "execution_count": 6,
   "id": "879bc388",
   "metadata": {
    "execution": {
     "iopub.execute_input": "2021-11-27T08:53:56.610803Z",
     "iopub.status.busy": "2021-11-27T08:53:56.609902Z",
     "iopub.status.idle": "2021-11-27T08:53:56.642281Z",
     "shell.execute_reply": "2021-11-27T08:53:56.642758Z",
     "shell.execute_reply.started": "2021-11-27T08:46:24.779063Z"
    },
    "papermill": {
     "duration": 0.053977,
     "end_time": "2021-11-27T08:53:56.642961",
     "exception": false,
     "start_time": "2021-11-27T08:53:56.588984",
     "status": "completed"
    },
    "tags": []
   },
   "outputs": [],
   "source": [
    "from sklearn.model_selection import train_test_split\n",
    "X_train,X_test, y_train,y_test = train_test_split(final_df.drop('Class',axis=1), \n",
    "                                                  final_df['Class'],\n",
    "                                                  test_size=0.2,\n",
    "                                                  random_state=100)"
   ]
  },
  {
   "cell_type": "markdown",
   "id": "ef86a028",
   "metadata": {
    "papermill": {
     "duration": 0.009781,
     "end_time": "2021-11-27T08:53:56.663222",
     "exception": false,
     "start_time": "2021-11-27T08:53:56.653441",
     "status": "completed"
    },
    "tags": []
   },
   "source": [
    "# Method 1 - Support Vector Machine"
   ]
  },
  {
   "cell_type": "code",
   "execution_count": 7,
   "id": "32490c6f",
   "metadata": {
    "execution": {
     "iopub.execute_input": "2021-11-27T08:53:56.686234Z",
     "iopub.status.busy": "2021-11-27T08:53:56.685644Z",
     "iopub.status.idle": "2021-11-27T08:53:57.056143Z",
     "shell.execute_reply": "2021-11-27T08:53:57.055625Z",
     "shell.execute_reply.started": "2021-11-27T08:46:29.563402Z"
    },
    "papermill": {
     "duration": 0.383061,
     "end_time": "2021-11-27T08:53:57.056291",
     "exception": false,
     "start_time": "2021-11-27T08:53:56.673230",
     "status": "completed"
    },
    "tags": []
   },
   "outputs": [
    {
     "name": "stdout",
     "output_type": "stream",
     "text": [
      "Distribution of y_train set Before over and under sampling:  Counter({0: 227449, 1: 396})\n",
      "Distribution of y_train set Before over and under sampling:  Counter({0: 198000, 1: 1980})\n"
     ]
    }
   ],
   "source": [
    "from imblearn.over_sampling import SMOTE\n",
    "from imblearn.under_sampling import RandomUnderSampler\n",
    "from collections import Counter\n",
    "\n",
    "print('Distribution of y_train set Before over and under sampling: ', Counter(y_train))\n",
    "\n",
    "under = RandomUnderSampler(sampling_strategy=0.002)\n",
    "over = SMOTE(sampling_strategy=0.01)\n",
    "\n",
    "X_train_smote, y_train_smote = under.fit_resample(X_train, y_train)\n",
    "X_train_both, y_train_both = over.fit_resample(X_train_smote, y_train_smote)\n",
    "\n",
    "print('Distribution of y_train set Before over and under sampling: ', Counter(y_train_both))"
   ]
  },
  {
   "cell_type": "code",
   "execution_count": 8,
   "id": "e0624630",
   "metadata": {
    "execution": {
     "iopub.execute_input": "2021-11-27T08:53:57.085986Z",
     "iopub.status.busy": "2021-11-27T08:53:57.084730Z",
     "iopub.status.idle": "2021-11-27T08:53:57.722490Z",
     "shell.execute_reply": "2021-11-27T08:53:57.721996Z",
     "shell.execute_reply.started": "2021-11-27T08:46:34.084380Z"
    },
    "papermill": {
     "duration": 0.655601,
     "end_time": "2021-11-27T08:53:57.722684",
     "exception": false,
     "start_time": "2021-11-27T08:53:57.067083",
     "status": "completed"
    },
    "tags": []
   },
   "outputs": [
    {
     "data": {
      "text/plain": [
       "SGDClassifier()"
      ]
     },
     "execution_count": 8,
     "metadata": {},
     "output_type": "execute_result"
    }
   ],
   "source": [
    "from sklearn.linear_model import SGDClassifier\n",
    "\n",
    "\n",
    "model = SGDClassifier()\n",
    "model.fit(X_train_both, y_train_both)"
   ]
  },
  {
   "cell_type": "code",
   "execution_count": 9,
   "id": "de7c7740",
   "metadata": {
    "execution": {
     "iopub.execute_input": "2021-11-27T08:53:57.754689Z",
     "iopub.status.busy": "2021-11-27T08:53:57.753590Z",
     "iopub.status.idle": "2021-11-27T08:53:57.888516Z",
     "shell.execute_reply": "2021-11-27T08:53:57.887777Z",
     "shell.execute_reply.started": "2021-11-27T08:46:40.259464Z"
    },
    "papermill": {
     "duration": 0.153765,
     "end_time": "2021-11-27T08:53:57.888754",
     "exception": false,
     "start_time": "2021-11-27T08:53:57.734989",
     "status": "completed"
    },
    "tags": []
   },
   "outputs": [
    {
     "name": "stdout",
     "output_type": "stream",
     "text": [
      "classification report:               precision    recall  f1-score   support\n",
      "\n",
      "           0       1.00      1.00      1.00     56943\n",
      "           1       0.06      0.32      0.10        19\n",
      "\n",
      "    accuracy                           1.00     56962\n",
      "   macro avg       0.53      0.66      0.55     56962\n",
      "weighted avg       1.00      1.00      1.00     56962\n",
      "\n",
      "----------------------------------------\n",
      "accuracy_score :  0.9981917769741231\n"
     ]
    }
   ],
   "source": [
    "from sklearn.metrics import accuracy_score, classification_report, roc_curve\n",
    "\n",
    "prediction = model.predict(X_test)\n",
    "print('classification report:', classification_report(prediction, y_test))\n",
    "print('-'*40)\n",
    "print('accuracy_score : ',accuracy_score(prediction, y_test))"
   ]
  },
  {
   "cell_type": "markdown",
   "id": "34588468",
   "metadata": {},
   "source": [
    "# Method 2 - Random Forest"
   ]
  },
  {
   "cell_type": "code",
   "execution_count": 10,
   "id": "f1442e1d",
   "metadata": {},
   "outputs": [],
   "source": [
    "X = df.drop(['Class'], axis=1)\n",
    "y = df.Class\n",
    "X_train, X_test, y_train, y_test = train_test_split(X, y, test_size=0.25, random_state=1)"
   ]
  },
  {
   "cell_type": "code",
   "execution_count": 17,
   "id": "37a42afc",
   "metadata": {},
   "outputs": [],
   "source": [
    "from sklearn import ensemble\n",
    "\n",
    "rf = ensemble.RandomForestClassifier()\n",
    "rf.fit(X_train, y_train)\n",
    "y_rf = rf.predict(X_test)"
   ]
  },
  {
   "cell_type": "code",
   "execution_count": 18,
   "id": "3a85c36c",
   "metadata": {},
   "outputs": [],
   "source": [
    "from sklearn import metrics\n",
    "from sklearn import preprocessing\n",
    "from sklearn import model_selection\n",
    "from sklearn.metrics import classification_report, confusion_matrix, roc_curve, roc_auc_score,auc, accuracy_score"
   ]
  },
  {
   "cell_type": "code",
   "execution_count": 19,
   "id": "ee373b0d",
   "metadata": {},
   "outputs": [
    {
     "name": "stdout",
     "output_type": "stream",
     "text": [
      "              precision    recall  f1-score   support\n",
      "\n",
      "           0       1.00      1.00      1.00     71091\n",
      "           1       0.92      0.76      0.83       111\n",
      "\n",
      "    accuracy                           1.00     71202\n",
      "   macro avg       0.96      0.88      0.92     71202\n",
      "weighted avg       1.00      1.00      1.00     71202\n",
      "\n"
     ]
    }
   ],
   "source": [
    "print(classification_report(y_test, y_rf))"
   ]
  },
  {
   "cell_type": "code",
   "execution_count": 20,
   "id": "3d5b2f91",
   "metadata": {},
   "outputs": [
    {
     "name": "stdout",
     "output_type": "stream",
     "text": [
      "[[71084     7]\n",
      " [   27    84]]\n"
     ]
    }
   ],
   "source": [
    "cm = confusion_matrix(y_test, y_rf)\n",
    "print(cm)"
   ]
  },
  {
   "cell_type": "markdown",
   "id": "33da1b23",
   "metadata": {},
   "source": [
    "# Method 3 - Oversampling "
   ]
  },
  {
   "cell_type": "code",
   "execution_count": 21,
   "id": "b6501935",
   "metadata": {},
   "outputs": [],
   "source": [
    "X = df.drop(['Class'], axis=1)\n",
    "y = df.Class\n",
    "X_train, X_test, y_train, y_test = train_test_split(X, y, test_size=0.25, random_state=1)"
   ]
  },
  {
   "cell_type": "code",
   "execution_count": 22,
   "id": "ecd3f9a4",
   "metadata": {},
   "outputs": [],
   "source": [
    "from imblearn.over_sampling import SMOTE\n",
    "\n",
    "smote = SMOTE()\n",
    "X_train, y_train = smote.fit_resample(X_train, y_train)"
   ]
  },
  {
   "cell_type": "code",
   "execution_count": 23,
   "id": "9b0658db",
   "metadata": {},
   "outputs": [
    {
     "data": {
      "text/plain": [
       "0    213224\n",
       "1    213224\n",
       "Name: Class, dtype: int64"
      ]
     },
     "execution_count": 23,
     "metadata": {},
     "output_type": "execute_result"
    }
   ],
   "source": [
    "y_train.value_counts()"
   ]
  },
  {
   "cell_type": "code",
   "execution_count": 24,
   "id": "db65fce0",
   "metadata": {},
   "outputs": [],
   "source": [
    "from sklearn import ensemble\n",
    "rf = ensemble.RandomForestClassifier()\n",
    "rf.fit(X_train, y_train)\n",
    "y_rf = rf.predict(X_test)"
   ]
  },
  {
   "cell_type": "code",
   "execution_count": 25,
   "id": "65cb4255",
   "metadata": {},
   "outputs": [
    {
     "name": "stdout",
     "output_type": "stream",
     "text": [
      "              precision    recall  f1-score   support\n",
      "\n",
      "           0       1.00      1.00      1.00     71091\n",
      "           1       0.85      0.79      0.82       111\n",
      "\n",
      "    accuracy                           1.00     71202\n",
      "   macro avg       0.92      0.90      0.91     71202\n",
      "weighted avg       1.00      1.00      1.00     71202\n",
      "\n"
     ]
    }
   ],
   "source": [
    "print(classification_report(y_test, y_rf))"
   ]
  },
  {
   "cell_type": "code",
   "execution_count": 26,
   "id": "d5809ed1",
   "metadata": {},
   "outputs": [
    {
     "name": "stdout",
     "output_type": "stream",
     "text": [
      "[[71075    16]\n",
      " [   23    88]]\n"
     ]
    }
   ],
   "source": [
    "cm = confusion_matrix(y_test, y_rf)\n",
    "print(cm)"
   ]
  },
  {
   "cell_type": "markdown",
   "id": "0a9df506",
   "metadata": {},
   "source": [
    "# Method 4 - Downsampling"
   ]
  },
  {
   "cell_type": "code",
   "execution_count": 27,
   "id": "9d180b9f",
   "metadata": {},
   "outputs": [
    {
     "data": {
      "text/plain": [
       "0    284315\n",
       "1       492\n",
       "Name: Class, dtype: int64"
      ]
     },
     "execution_count": 27,
     "metadata": {},
     "output_type": "execute_result"
    }
   ],
   "source": [
    "df.Class.value_counts()"
   ]
  },
  {
   "cell_type": "code",
   "execution_count": 28,
   "id": "9c3e65ee",
   "metadata": {},
   "outputs": [],
   "source": [
    "from imblearn.under_sampling import RandomUnderSampler \n",
    "\n",
    "rus = RandomUnderSampler()\n",
    "X_train, y_train = rus.fit_resample(X_train, y_train)"
   ]
  },
  {
   "cell_type": "code",
   "execution_count": 29,
   "id": "62d82743",
   "metadata": {},
   "outputs": [
    {
     "data": {
      "text/plain": [
       "0    213224\n",
       "1    213224\n",
       "Name: Class, dtype: int64"
      ]
     },
     "execution_count": 29,
     "metadata": {},
     "output_type": "execute_result"
    }
   ],
   "source": [
    "y_train.value_counts()"
   ]
  },
  {
   "cell_type": "code",
   "execution_count": 30,
   "id": "60cb731a",
   "metadata": {},
   "outputs": [],
   "source": [
    "rf = ensemble.RandomForestClassifier()\n",
    "rf.fit(X_train, y_train)\n",
    "y_rf = rf.predict(X_test)"
   ]
  },
  {
   "cell_type": "code",
   "execution_count": 31,
   "id": "a2b69602",
   "metadata": {},
   "outputs": [
    {
     "name": "stdout",
     "output_type": "stream",
     "text": [
      "              precision    recall  f1-score   support\n",
      "\n",
      "           0       1.00      1.00      1.00     71091\n",
      "           1       0.84      0.78      0.81       111\n",
      "\n",
      "    accuracy                           1.00     71202\n",
      "   macro avg       0.92      0.89      0.91     71202\n",
      "weighted avg       1.00      1.00      1.00     71202\n",
      "\n"
     ]
    }
   ],
   "source": [
    "print(classification_report(y_test, y_rf))"
   ]
  },
  {
   "cell_type": "code",
   "execution_count": 32,
   "id": "18142791",
   "metadata": {},
   "outputs": [
    {
     "name": "stdout",
     "output_type": "stream",
     "text": [
      "[[71075    16]\n",
      " [   24    87]]\n"
     ]
    }
   ],
   "source": [
    "cm = confusion_matrix(y_test, y_rf)\n",
    "print(cm)"
   ]
  }
 ],
 "metadata": {
  "kernelspec": {
   "display_name": "Python 3",
   "language": "python",
   "name": "python3"
  },
  "language_info": {
   "codemirror_mode": {
    "name": "ipython",
    "version": 3
   },
   "file_extension": ".py",
   "mimetype": "text/x-python",
   "name": "python",
   "nbconvert_exporter": "python",
   "pygments_lexer": "ipython3",
   "version": "3.8.8"
  },
  "papermill": {
   "default_parameters": {},
   "duration": 17.824253,
   "end_time": "2021-11-27T08:53:59.343213",
   "environment_variables": {},
   "exception": null,
   "input_path": "__notebook__.ipynb",
   "output_path": "__notebook__.ipynb",
   "parameters": {},
   "start_time": "2021-11-27T08:53:41.518960",
   "version": "2.3.3"
  }
 },
 "nbformat": 4,
 "nbformat_minor": 5
}
